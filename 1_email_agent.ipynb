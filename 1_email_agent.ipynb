{
 "cells": [
  {
   "metadata": {
    "collapsed": true
   },
   "cell_type": "markdown",
   "source": "## EMAIL AGENT",
   "id": "1167b79f677c11e1"
  },
  {
   "metadata": {
    "ExecuteTime": {
     "end_time": "2025-08-29T08:01:45.769468Z",
     "start_time": "2025-08-29T08:01:45.644660Z"
    }
   },
   "cell_type": "code",
   "source": [
    "from dotenv import load_dotenv\n",
    "load_dotenv()"
   ],
   "id": "139697d5f79a6286",
   "outputs": [
    {
     "data": {
      "text/plain": [
       "True"
      ]
     },
     "execution_count": 2,
     "metadata": {},
     "output_type": "execute_result"
    }
   ],
   "execution_count": 2
  },
  {
   "metadata": {
    "ExecuteTime": {
     "end_time": "2025-08-29T08:04:14.229836Z",
     "start_time": "2025-08-29T08:04:02.103141Z"
    }
   },
   "cell_type": "code",
   "source": [
    "from crewai import LLM\n",
    "\n",
    "llm = LLM(\n",
    "    model = 'gemini/gemini-2.0-flash',\n",
    "    temperature = 0.1\n",
    ")\n",
    "\n",
    "llm.call(\"Who invented paper?\")"
   ],
   "id": "766f46bae6519078",
   "outputs": [
    {
     "data": {
      "text/plain": [
       "\"Paper as we know it today is generally credited to **Cai Lun (Ts'ai Lun)**, a Chinese court official during the Han Dynasty, around **105 AD**.\\n\\nWhile there's evidence of earlier forms of papyrus and other writing materials, Cai Lun's process involved using materials like bark, hemp, old rags, and fishing nets, which were then pulped, pressed, and dried to create a writing surface. This method was a significant improvement over previous techniques and led to the widespread adoption of paper in China and eventually the rest of the world.\\n\\nTherefore, while he didn't invent the *very first* writing surface, Cai Lun is considered the inventor of **modern paper** due to his innovative and influential process.\\n\""
      ]
     },
     "execution_count": 3,
     "metadata": {},
     "output_type": "execute_result"
    }
   ],
   "execution_count": 3
  },
  {
   "metadata": {},
   "cell_type": "code",
   "outputs": [],
   "execution_count": null,
   "source": [
    "from crewai import Agent, Task, Crew\n",
    "\n",
    "email_assistant = Agent(\n",
    "    role=\"Email Assistant Agent\",\n",
    "    goal=\"Improve emails and make them sound professional and clear\",\n",
    "    backstory=\"\",\n",
    "    verbose=True,\n",
    "    llm=llm,\n",
    ")"
   ],
   "id": "3cf0204fdaf0da2d"
  }
 ],
 "metadata": {
  "kernelspec": {
   "display_name": "Python 3",
   "language": "python",
   "name": "python3"
  },
  "language_info": {
   "codemirror_mode": {
    "name": "ipython",
    "version": 2
   },
   "file_extension": ".py",
   "mimetype": "text/x-python",
   "name": "python",
   "nbconvert_exporter": "python",
   "pygments_lexer": "ipython2",
   "version": "2.7.6"
  }
 },
 "nbformat": 4,
 "nbformat_minor": 5
}
